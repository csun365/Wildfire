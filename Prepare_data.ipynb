{
 "cells": [
  {
   "cell_type": "code",
   "execution_count": 1,
   "id": "1e507d7f",
   "metadata": {},
   "outputs": [],
   "source": [
    "import numpy as np\n",
    "import os\n",
    "import matplotlib.pyplot as plt\n",
    "import skimage.io\n",
    "from skimage.io import imread\n",
    "import pickle"
   ]
  },
  {
   "cell_type": "code",
   "execution_count": 2,
   "id": "a3d35599",
   "metadata": {},
   "outputs": [],
   "source": [
    "fire_path = \"\"\n",
    "# fire_test_path = \"\"\n",
    "mask_path = \"\"\n",
    "# mask_test_path = \"\"\n",
    "nonfire_path = \"\""
   ]
  },
  {
   "cell_type": "code",
   "execution_count": 3,
   "id": "58dd7263",
   "metadata": {},
   "outputs": [],
   "source": [
    "X = [] # fires\n",
    "y = [] # masks"
   ]
  },
  {
   "cell_type": "code",
   "execution_count": 4,
   "id": "b4c80226",
   "metadata": {},
   "outputs": [],
   "source": [
    "# X and y\n",
    "for path_row in os.listdir(fire_path):\n",
    "    if path_row[-3:] != \"zip\" and path_row != \".DS_Store\":\n",
    "        for image in os.listdir(fire_path + \"/\" + path_row):\n",
    "            if image != \".DS_Store\":\n",
    "                if \"RT_bands\" in image:\n",
    "                    name = \"RT\"\n",
    "                if \"T1_bands\" in image:\n",
    "                    name = \"T1\"\n",
    "                mask = image.replace(name + \"_bands_f\",\"RT_fire\")\n",
    "                path_row_mask = path_row.replace(\"allbands_fire\", \"masks\")\n",
    "                if mask in os.listdir(mask_path + \"/\" + path_row_mask):\n",
    "                    # Add image and mask to X and y, respectively\n",
    "                    path_image = fire_path + \"/\" + path_row + \"/\" + image\n",
    "                    path_mask = mask_path + \"/\" + path_row_mask + \"/\" + mask\n",
    "                    X.append(imread(path_image))\n",
    "                    y.append(imread(path_mask))"
   ]
  },
  {
   "cell_type": "code",
   "execution_count": 5,
   "id": "771b7021",
   "metadata": {},
   "outputs": [],
   "source": [
    "X = np.array(X)\n",
    "y = np.array(y)"
   ]
  },
  {
   "cell_type": "code",
   "execution_count": 6,
   "id": "2be1b7ed",
   "metadata": {},
   "outputs": [],
   "source": [
    "# X = np.stack((X[:,:,:,2], X[:,:,:,5], X[:,:,:,6]), axis=-1)"
   ]
  },
  {
   "cell_type": "code",
   "execution_count": 7,
   "id": "0449de33",
   "metadata": {},
   "outputs": [],
   "source": [
    "# count = 0\n",
    "# for i in os.listdir(mask_path):\n",
    "#     if i[-3:] != \"zip\" and i != \".DS_Store\":\n",
    "#         for j in os.listdir(mask_path + \"/\" + i):\n",
    "#             count += 1\n",
    "# print(count==y.shape[0])"
   ]
  },
  {
   "cell_type": "code",
   "execution_count": 8,
   "id": "c76ec51f",
   "metadata": {},
   "outputs": [],
   "source": [
    "print(X.shape)\n",
    "print(y.shape)"
   ]
  },
  {
   "cell_type": "code",
   "execution_count": 9,
   "id": "70bf047e",
   "metadata": {},
   "outputs": [],
   "source": [
    "pickle.dump(X, open(\"fires_test.dat\", \"wb\"))\n",
    "pickle.dump(y, open(\"masks_test.dat\", \"wb\"))"
   ]
  },
  {
   "cell_type": "code",
   "execution_count": 10,
   "id": "93abf560",
   "metadata": {},
   "outputs": [],
   "source": [
    "nonfire = []"
   ]
  },
  {
   "cell_type": "code",
   "execution_count": 11,
   "id": "746a3891",
   "metadata": {},
   "outputs": [],
   "source": [
    "# Fire and Nonfire\n",
    "for path_row in os.listdir(nonfire_path):\n",
    "    if path_row[-3:] != \"zip\" and path_row != \".DS_Store\":\n",
    "        for image in os.listdir(nonfire_path + \"/\" + path_row):\n",
    "            if image != \".DS_Store\":\n",
    "                nonfire.append(imread(nonfire_path + \"/\" + path_row + \"/\" + image))"
   ]
  },
  {
   "cell_type": "code",
   "execution_count": 12,
   "id": "db3e7c15",
   "metadata": {},
   "outputs": [],
   "source": [
    "len(nonfire)"
   ]
  },
  {
   "cell_type": "code",
   "execution_count": 13,
   "id": "09aa2edc",
   "metadata": {},
   "outputs": [],
   "source": [
    "nonfire = np.array(nonfire)\n",
    "pickle.dump(nonfire, open(\"nonfires.dat\", \"wb\"))"
   ]
  }
 ],
 "metadata": {
  "kernelspec": {
   "display_name": "Python 3",
   "language": "python",
   "name": "python3"
  },
  "language_info": {
   "codemirror_mode": {
    "name": "ipython",
    "version": 3
   },
   "file_extension": ".py",
   "mimetype": "text/x-python",
   "name": "python",
   "nbconvert_exporter": "python",
   "pygments_lexer": "ipython3",
   "version": "3.8.8"
  }
 },
 "nbformat": 4,
 "nbformat_minor": 5
}
