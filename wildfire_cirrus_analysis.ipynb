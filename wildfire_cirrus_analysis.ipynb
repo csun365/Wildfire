{
 "cells": [
  {
   "cell_type": "code",
   "execution_count": 1,
   "metadata": {
    "execution": {
     "iopub.execute_input": "2022-02-15T19:10:28.147186Z",
     "iopub.status.busy": "2022-02-15T19:10:28.146366Z",
     "iopub.status.idle": "2022-02-15T19:10:29.539265Z",
     "shell.execute_reply": "2022-02-15T19:10:29.537189Z",
     "shell.execute_reply.started": "2022-02-15T19:10:28.147058Z"
    }
   },
   "outputs": [],
   "source": [
    "import pandas as pd\n",
    "import numpy as np\n",
    "\n",
    "import matplotlib.pyplot as plt\n",
    "from matplotlib.pyplot import figure\n",
    "from mpl_toolkits import mplot3d\n",
    "\n",
    "from sklearn.cluster import KMeans\n",
    "from sklearn.linear_model import LinearRegression\n",
    "from sklearn.decomposition import PCA\n",
    "\n",
    "import scipy\n",
    "from scipy.stats import norm\n",
    "import pickle\n",
    "import gc \n",
    "\n",
    "from IPython.display import display"
   ]
  },
  {
   "cell_type": "code",
   "execution_count": 2,
   "metadata": {
    "execution": {
     "iopub.execute_input": "2022-02-15T19:12:40.483059Z",
     "iopub.status.busy": "2022-02-15T19:12:40.482034Z",
     "iopub.status.idle": "2022-02-15T19:13:45.542766Z",
     "shell.execute_reply": "2022-02-15T19:13:45.54129Z",
     "shell.execute_reply.started": "2022-02-15T19:12:40.483008Z"
    }
   },
   "outputs": [],
   "source": [
    "fire_path = \"\"\n",
    "mask_path = \"\"\n",
    "\n",
    "fires = pickle.load(open(fire_path, \"rb\"))\n",
    "masks = pickle.load(open(mask_path, \"rb\"))"
   ]
  },
  {
   "cell_type": "code",
   "execution_count": 3,
   "metadata": {
    "execution": {
     "iopub.execute_input": "2022-02-15T19:13:48.698741Z",
     "iopub.status.busy": "2022-02-15T19:13:48.698311Z",
     "iopub.status.idle": "2022-02-15T19:13:48.70648Z",
     "shell.execute_reply": "2022-02-15T19:13:48.705017Z",
     "shell.execute_reply.started": "2022-02-15T19:13:48.698691Z"
    }
   },
   "outputs": [],
   "source": [
    "def return_idxs(data):\n",
    "    idxs = np.argwhere(np.min(data.reshape(data.shape[0], 128*128*10), axis=1) != 0)\n",
    "    idxs = idxs.reshape(idxs.shape[0])\n",
    "    return idxs"
   ]
  },
  {
   "cell_type": "code",
   "execution_count": 4,
   "metadata": {
    "execution": {
     "iopub.execute_input": "2022-02-15T19:14:47.859182Z",
     "iopub.status.busy": "2022-02-15T19:14:47.858883Z",
     "iopub.status.idle": "2022-02-15T19:14:47.863856Z",
     "shell.execute_reply": "2022-02-15T19:14:47.862332Z",
     "shell.execute_reply.started": "2022-02-15T19:14:47.85915Z"
    }
   },
   "outputs": [],
   "source": [
    "idxs_fire = return_idxs(fires)\n",
    "fires = fires[idxs_fire]\n",
    "masks = masks[idxs_fire]"
   ]
  },
  {
   "cell_type": "code",
   "execution_count": 5,
   "metadata": {
    "execution": {
     "iopub.execute_input": "2022-02-15T19:17:40.590325Z",
     "iopub.status.busy": "2022-02-15T19:17:40.589955Z",
     "iopub.status.idle": "2022-02-15T19:18:04.707197Z",
     "shell.execute_reply": "2022-02-15T19:18:04.706178Z",
     "shell.execute_reply.started": "2022-02-15T19:17:40.590287Z"
    }
   },
   "outputs": [],
   "source": [
    "cirrus_path = \"\"\n",
    "cirrus = pickle.load(open(cirrus_path, \"rb\"))"
   ]
  },
  {
   "cell_type": "code",
   "execution_count": 6,
   "metadata": {
    "execution": {
     "iopub.execute_input": "2022-02-15T19:18:07.451293Z",
     "iopub.status.busy": "2022-02-15T19:18:07.450918Z",
     "iopub.status.idle": "2022-02-15T19:18:07.461134Z",
     "shell.execute_reply": "2022-02-15T19:18:07.460447Z",
     "shell.execute_reply.started": "2022-02-15T19:18:07.451253Z"
    }
   },
   "outputs": [],
   "source": [
    "def cirrus_idxs(data):\n",
    "    cirrus_band = 7\n",
    "    max_range_cirrus = 500 # experimentally decided; for the images that actually have cirrus contamination, the range of the pixel values is much bigger\n",
    "    lst = []\n",
    "    lst_of_vals = []\n",
    "    for i in range(data.shape[0]):\n",
    "        condition1 = (np.max(data[i,:,:,cirrus_band]) - np.min(data[i,:,:,cirrus_band])) >= max_range_cirrus\n",
    "        condition2 = list(data[i,:,:,7].flatten()) not in lst_of_vals\n",
    "        if condition1 and condition2:\n",
    "            lst.append(i)\n",
    "            lst_of_vals.append(list(data[i,:,:,7].flatten()))\n",
    "    return lst"
   ]
  },
  {
   "cell_type": "code",
   "execution_count": 7,
   "metadata": {
    "execution": {
     "iopub.execute_input": "2022-02-15T19:18:24.720433Z",
     "iopub.status.busy": "2022-02-15T19:18:24.720123Z",
     "iopub.status.idle": "2022-02-15T19:19:44.035948Z",
     "shell.execute_reply": "2022-02-15T19:19:44.034799Z",
     "shell.execute_reply.started": "2022-02-15T19:18:24.720401Z"
    }
   },
   "outputs": [],
   "source": [
    "cirrus_idxs_fires = cirrus_idxs(fires) # length: 2152"
   ]
  },
  {
   "cell_type": "code",
   "execution_count": 8,
   "metadata": {
    "execution": {
     "iopub.execute_input": "2022-02-15T08:19:35.745351Z",
     "iopub.status.busy": "2022-02-15T08:19:35.744858Z",
     "iopub.status.idle": "2022-02-15T08:19:36.058926Z",
     "shell.execute_reply": "2022-02-15T08:19:36.058131Z",
     "shell.execute_reply.started": "2022-02-15T08:19:35.745315Z"
    }
   },
   "outputs": [],
   "source": [
    "num_fires = np.sum(np.sum(masks, axis=-1), axis=-1)[cirrus_idxs_fires]"
   ]
  },
  {
   "cell_type": "code",
   "execution_count": 9,
   "metadata": {
    "execution": {
     "iopub.execute_input": "2022-02-15T08:18:36.735892Z",
     "iopub.status.busy": "2022-02-15T08:18:36.73554Z",
     "iopub.status.idle": "2022-02-15T08:18:37.106292Z",
     "shell.execute_reply": "2022-02-15T08:18:37.105411Z",
     "shell.execute_reply.started": "2022-02-15T08:18:36.735857Z"
    }
   },
   "outputs": [],
   "source": [
    "dense_cirrus = np.sum(np.sum(cirrus[:,:,:,2], axis=1), axis=1)[:len(cirrus_idxs_fires)]\n",
    "scattered_cirrus = np.sum(np.sum(cirrus[:,:,:,1], axis=1), axis=1)[:len(cirrus_idxs_fires)]\n",
    "no_cirrus = np.sum(np.sum(cirrus[:,:,:,0], axis=1), axis=1)[:len(cirrus_idxs_fires)]"
   ]
  },
  {
   "cell_type": "code",
   "execution_count": 10,
   "metadata": {
    "execution": {
     "iopub.execute_input": "2022-02-15T08:19:40.412105Z",
     "iopub.status.busy": "2022-02-15T08:19:40.411829Z",
     "iopub.status.idle": "2022-02-15T08:19:40.417154Z",
     "shell.execute_reply": "2022-02-15T08:19:40.416382Z",
     "shell.execute_reply.started": "2022-02-15T08:19:40.412078Z"
    }
   },
   "outputs": [],
   "source": [
    "less_fire_idxs = np.argwhere(num_fires < 20).reshape(-1,) # less than 20 pixels with fire\n",
    "y_less_scatter = num_fires[less_fire_idxs]\n",
    "more_fire_idxs = np.argwhere(num_fires < 20).reshape(-1,) # less than 20 pixels with fire\n",
    "y_more_scatter = num_fires[more_fire_idxs]"
   ]
  },
  {
   "cell_type": "code",
   "execution_count": 11,
   "metadata": {
    "execution": {
     "iopub.execute_input": "2022-02-15T08:19:41.102Z",
     "iopub.status.busy": "2022-02-15T08:19:41.101693Z",
     "iopub.status.idle": "2022-02-15T08:19:41.106207Z",
     "shell.execute_reply": "2022-02-15T08:19:41.105536Z",
     "shell.execute_reply.started": "2022-02-15T08:19:41.101967Z"
    }
   },
   "outputs": [],
   "source": [
    "X_less_scatter_no_cirrus = no_cirrus[less_fire_idxs]\n",
    "X_less_scatter_dense_cirrus = dense_cirrus[less_fire_idxs]\n",
    "X_less_scatter_scattered_cirrus = scattered_cirrus[less_fire_idxs]\n",
    "X_more_scatter_no_cirrus = no_cirrus[more_fire_idxs]\n",
    "X_more_scatter_dense_cirrus = dense_cirrus[more_fire_idxs]\n",
    "X_more_scatter_scattered_cirrus = scattered_cirrus[more_fire_idxs]"
   ]
  },
  {
   "cell_type": "code",
   "execution_count": 12,
   "metadata": {
    "execution": {
     "iopub.execute_input": "2022-02-15T08:26:15.305449Z",
     "iopub.status.busy": "2022-02-15T08:26:15.305015Z",
     "iopub.status.idle": "2022-02-15T08:26:15.969395Z",
     "shell.execute_reply": "2022-02-15T08:26:15.968484Z",
     "shell.execute_reply.started": "2022-02-15T08:26:15.305406Z"
    }
   },
   "outputs": [],
   "source": [
    "titles = [\"No Cirrus <20 Fires\", \"Scattered Cirrus <20 Fires\", \"Dense Cirrus <20 Fires\"]\n",
    "j = 0\n",
    "for i in [X_less_scatter_no_cirrus, X_less_scatter_dense_cirrus, X_less_scatter_scattered_cirrus]:\n",
    "    plt.scatter(i, y_less_scatter)\n",
    "    plt.title(titles[j])\n",
    "    plt.xlabel(\"# of pixels in the cirrus contamination category\")\n",
    "    plt.ylabel(\"# of fires\")\n",
    "    plt.show()\n",
    "    j += 1"
   ]
  },
  {
   "cell_type": "code",
   "execution_count": 13,
   "metadata": {},
   "outputs": [],
   "source": [
    "titles = [\"No Cirrus >20 Fires\", \"Scattered Cirrus >20 Fires\", \"Dense Cirrus >20 Fires\"]\n",
    "j = 0\n",
    "for i in [X_more_scatter_no_cirrus, X_more_scatter_dense_cirrus, X_more_scatter_scattered_cirrus]:\n",
    "    plt.scatter(i, y_more_scatter)\n",
    "    plt.title(titles[j])\n",
    "    plt.xlabel(\"# of pixels in the cirrus contamination category\")\n",
    "    plt.ylabel(\"# of fires\")\n",
    "    plt.show()\n",
    "    j += 1"
   ]
  },
  {
   "cell_type": "code",
   "execution_count": 14,
   "metadata": {
    "execution": {
     "iopub.execute_input": "2022-02-15T08:25:09.359363Z",
     "iopub.status.busy": "2022-02-15T08:25:09.359059Z",
     "iopub.status.idle": "2022-02-15T08:25:09.98071Z",
     "shell.execute_reply": "2022-02-15T08:25:09.979556Z",
     "shell.execute_reply.started": "2022-02-15T08:25:09.359333Z"
    }
   },
   "outputs": [],
   "source": [
    "titles = [\"No Cirrus\", \"Scattered Cirrus\", \"Dense Cirrus\"]\n",
    "j = 0\n",
    "for i in [no_cirrus, scattered_cirrus, dense_cirrus]:\n",
    "    plt.scatter(i, np.log10(num_fires))\n",
    "    plt.title(titles[j])\n",
    "    plt.xlabel(\"# of pixels in the cirrus contamination category\")\n",
    "    plt.ylabel(\"# of fires\")\n",
    "    plt.show()\n",
    "    j += 1"
   ]
  },
  {
   "cell_type": "code",
   "execution_count": 15,
   "metadata": {
    "execution": {
     "iopub.execute_input": "2022-02-15T08:31:14.351299Z",
     "iopub.status.busy": "2022-02-15T08:31:14.350975Z",
     "iopub.status.idle": "2022-02-15T08:31:14.357882Z",
     "shell.execute_reply": "2022-02-15T08:31:14.356933Z",
     "shell.execute_reply.started": "2022-02-15T08:31:14.351266Z"
    }
   },
   "outputs": [],
   "source": [
    "X_no_cirrus = np.stack((no_cirrus, np.log10(num_fires))).T\n",
    "X_scattered_cirrus = np.stack((scattered_cirrus, np.log10(num_fires))).T\n",
    "X_dense_cirrus = np.stack((dense_cirrus, np.log10(num_fires))).T"
   ]
  },
  {
   "cell_type": "code",
   "execution_count": 16,
   "metadata": {
    "execution": {
     "iopub.execute_input": "2022-02-15T08:32:48.6141Z",
     "iopub.status.busy": "2022-02-15T08:32:48.613781Z",
     "iopub.status.idle": "2022-02-15T08:32:49.204934Z",
     "shell.execute_reply": "2022-02-15T08:32:49.20334Z",
     "shell.execute_reply.started": "2022-02-15T08:32:48.614063Z"
    }
   },
   "outputs": [],
   "source": [
    "titles = [\"No Cirrus\", \"Scattered Cirrus\", \"Dense Cirrus\"]\n",
    "lr = LinearRegression()\n",
    "j = 0\n",
    "for X in [X_no_cirrus, X_scattered_cirrus, X_dense_cirrus]:\n",
    "    lr.fit(X[:,0].reshape(-1,1), X[:,1])\n",
    "    X_pred = np.linspace(X[:,0].min(), X[:,0].max()).reshape(-1,1)\n",
    "    plt.scatter(X[:,0], X[:,1])\n",
    "    plt.plot(X_pred, lr.predict(X_pred), c=\"r\")\n",
    "    plt.title(titles[j])\n",
    "    plt.show()\n",
    "    print(\"Slope: \" + str(lr.coef_))\n",
    "    j += 1"
   ]
  },
  {
   "cell_type": "code",
   "execution_count": 17,
   "metadata": {
    "execution": {
     "iopub.execute_input": "2022-02-15T08:28:52.799088Z",
     "iopub.status.busy": "2022-02-15T08:28:52.798432Z",
     "iopub.status.idle": "2022-02-15T08:28:53.197714Z",
     "shell.execute_reply": "2022-02-15T08:28:53.196787Z",
     "shell.execute_reply.started": "2022-02-15T08:28:52.799048Z"
    }
   },
   "outputs": [],
   "source": [
    "dense_cirrus_nonfire = np.sum(np.sum(cirrus[:,:,:,2], axis=1), axis=1)[len(idxs_fire):]\n",
    "scattered_cirrus_nonfire = np.sum(np.sum(cirrus[:,:,:,1], axis=1), axis=1)[len(idxs_fire):]\n",
    "no_cirrus_nonfire = np.sum(np.sum(cirrus[:,:,:,0], axis=1), axis=1)[len(idxs_fire):]"
   ]
  },
  {
   "cell_type": "code",
   "execution_count": 18,
   "metadata": {
    "execution": {
     "iopub.execute_input": "2022-02-15T08:29:40.506361Z",
     "iopub.status.busy": "2022-02-15T08:29:40.505511Z",
     "iopub.status.idle": "2022-02-15T08:29:40.514502Z",
     "shell.execute_reply": "2022-02-15T08:29:40.513637Z",
     "shell.execute_reply.started": "2022-02-15T08:29:40.506318Z"
    }
   },
   "outputs": [],
   "source": [
    "print(np.mean(dense_cirrus), np.std(dense_cirrus))\n",
    "print(np.mean(scattered_cirrus), np.std(scattered_cirrus))\n",
    "print(np.mean(no_cirrus), np.std(no_cirrus))"
   ]
  },
  {
   "cell_type": "code",
   "execution_count": 19,
   "metadata": {
    "execution": {
     "iopub.execute_input": "2022-02-15T08:30:32.912399Z",
     "iopub.status.busy": "2022-02-15T08:30:32.911348Z",
     "iopub.status.idle": "2022-02-15T08:30:33.906621Z",
     "shell.execute_reply": "2022-02-15T08:30:33.905541Z",
     "shell.execute_reply.started": "2022-02-15T08:30:32.912358Z"
    }
   },
   "outputs": [],
   "source": [
    "plt.hist(dense_cirrus, bins=50)\n",
    "plt.show()\n",
    "plt.hist(scattered_cirrus, bins=100)\n",
    "plt.show()\n",
    "plt.hist(no_cirrus, bins=100)\n",
    "plt.show()"
   ]
  }
 ],
 "metadata": {
  "kernelspec": {
   "display_name": "Python 3",
   "language": "python",
   "name": "python3"
  },
  "language_info": {
   "codemirror_mode": {
    "name": "ipython",
    "version": 3
   },
   "file_extension": ".py",
   "mimetype": "text/x-python",
   "name": "python",
   "nbconvert_exporter": "python",
   "pygments_lexer": "ipython3",
   "version": "3.8.8"
  }
 },
 "nbformat": 4,
 "nbformat_minor": 4
}
