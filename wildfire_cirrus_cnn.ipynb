{
 "cells": [
  {
   "cell_type": "code",
   "execution_count": 1,
   "metadata": {
    "execution": {
     "iopub.execute_input": "2022-02-12T05:39:59.959855Z",
     "iopub.status.busy": "2022-02-12T05:39:59.959450Z",
     "iopub.status.idle": "2022-02-12T05:39:59.986309Z",
     "shell.execute_reply": "2022-02-12T05:39:59.985681Z",
     "shell.execute_reply.started": "2022-02-12T05:39:59.959737Z"
    }
   },
   "outputs": [],
   "source": [
    "import pandas as pd\n",
    "import numpy as np\n",
    "\n",
    "import matplotlib.pyplot as plt\n",
    "from matplotlib.pyplot import figure\n",
    "from mpl_toolkits import mplot3d\n",
    "\n",
    "import tensorflow as tf\n",
    "from tensorflow import keras\n",
    "from tensorflow.keras import layers, callbacks, Sequential, Input, Model\n",
    "from tensorflow.keras.layers import *\n",
    "from sklearn.cluster import KMeans\n",
    "\n",
    "import math\n",
    "import scipy\n",
    "import pickle\n",
    "import gc \n",
    "\n",
    "from IPython.display import display"
   ]
  },
  {
   "cell_type": "code",
   "execution_count": 2,
   "metadata": {
    "execution": {
     "iopub.execute_input": "2022-02-12T05:40:00.910179Z",
     "iopub.status.busy": "2022-02-12T05:40:00.909520Z",
     "iopub.status.idle": "2022-02-12T05:40:00.913737Z",
     "shell.execute_reply": "2022-02-12T05:40:00.913063Z",
     "shell.execute_reply.started": "2022-02-12T05:40:00.910141Z"
    }
   },
   "outputs": [],
   "source": [
    "tf.random.set_seed(0)"
   ]
  },
  {
   "cell_type": "code",
   "execution_count": 3,
   "metadata": {
    "execution": {
     "iopub.execute_input": "2022-02-12T05:40:01.346531Z",
     "iopub.status.busy": "2022-02-12T05:40:01.346119Z",
     "iopub.status.idle": "2022-02-12T05:40:01.349517Z",
     "shell.execute_reply": "2022-02-12T05:40:01.348852Z",
     "shell.execute_reply.started": "2022-02-12T05:40:01.346496Z"
    }
   },
   "outputs": [],
   "source": [
    "fire_path = \"\"\n",
    "nonfire_path = \"\"\n",
    "fires = pickle.load(open(fire_path, \"rb\"))\n",
    "nonfires = pickle.load(open(nonfire_path, \"rb\"))"
   ]
  },
  {
   "cell_type": "code",
   "execution_count": 4,
   "metadata": {
    "execution": {
     "iopub.execute_input": "2022-02-12T05:40:01.805607Z",
     "iopub.status.busy": "2022-02-12T05:40:01.805105Z",
     "iopub.status.idle": "2022-02-12T05:40:01.809008Z",
     "shell.execute_reply": "2022-02-12T05:40:01.808216Z",
     "shell.execute_reply.started": "2022-02-12T05:40:01.805570Z"
    }
   },
   "outputs": [],
   "source": [
    "def return_idxs(data):\n",
    "    idxs = np.argwhere(np.min(data.reshape(data.shape[0], 128*128*10), axis=1) != 0)\n",
    "    idxs = idxs.reshape(idxs.shape[0])\n",
    "    return idxs"
   ]
  },
  {
   "cell_type": "code",
   "execution_count": 5,
   "metadata": {
    "execution": {
     "iopub.execute_input": "2022-02-12T05:40:02.224439Z",
     "iopub.status.busy": "2022-02-12T05:40:02.223732Z",
     "iopub.status.idle": "2022-02-12T05:40:02.227746Z",
     "shell.execute_reply": "2022-02-12T05:40:02.227004Z",
     "shell.execute_reply.started": "2022-02-12T05:40:02.224406Z"
    }
   },
   "outputs": [],
   "source": [
    "idxs_fire = return_idxs(fires)\n",
    "swir = fires[idxs_fire,:,:,5:7]\n",
    "\n",
    "idxs_nonfire = return_idxs(nonfires)\n",
    "swir_nonfire = nonfires[idxs_nonfire,:,:,5:7]"
   ]
  },
  {
   "cell_type": "code",
   "execution_count": 6,
   "metadata": {
    "execution": {
     "iopub.execute_input": "2022-02-12T05:40:02.682272Z",
     "iopub.status.busy": "2022-02-12T05:40:02.681800Z",
     "iopub.status.idle": "2022-02-12T05:40:02.685653Z",
     "shell.execute_reply": "2022-02-12T05:40:02.684883Z",
     "shell.execute_reply.started": "2022-02-12T05:40:02.682236Z"
    }
   },
   "outputs": [],
   "source": [
    "cirrus_x = np.concatenate((swir, swir_nonfire))"
   ]
  },
  {
   "cell_type": "code",
   "execution_count": 7,
   "metadata": {
    "execution": {
     "iopub.execute_input": "2022-02-12T05:40:03.396399Z",
     "iopub.status.busy": "2022-02-12T05:40:03.395938Z",
     "iopub.status.idle": "2022-02-12T05:40:03.400046Z",
     "shell.execute_reply": "2022-02-12T05:40:03.399362Z",
     "shell.execute_reply.started": "2022-02-12T05:40:03.396365Z"
    }
   },
   "outputs": [],
   "source": [
    "def cirrus_idxs(data):\n",
    "    cirrus_band = 7\n",
    "    max_range_cirrus = 500 # experimentally decided; for the images that actually have cirrus contamination, the range of the pixel values is much bigger\n",
    "    lst = []\n",
    "    lst_of_vals = []\n",
    "    for i in range(data.shape[0]):\n",
    "        condition1 = (np.max(data[i,:,:,cirrus_band]) - np.min(data[i,:,:,cirrus_band])) >= max_range_cirrus\n",
    "        condition2 = list(data[i,:,:,7].flatten()) not in lst_of_vals\n",
    "        if condition1 and condition2:\n",
    "            lst.append(i)\n",
    "            lst_of_vals.append(list(data[i,:,:,7].flatten()))\n",
    "    return lst"
   ]
  },
  {
   "cell_type": "code",
   "execution_count": 8,
   "metadata": {
    "execution": {
     "iopub.execute_input": "2022-02-12T05:40:04.464821Z",
     "iopub.status.busy": "2022-02-12T05:40:04.464207Z",
     "iopub.status.idle": "2022-02-12T05:40:04.467948Z",
     "shell.execute_reply": "2022-02-12T05:40:04.467130Z",
     "shell.execute_reply.started": "2022-02-12T05:40:04.464780Z"
    }
   },
   "outputs": [],
   "source": [
    "cirrus_idxs_fires = cirrus_idxs(fires) # length: 2152\n",
    "cirrus_idxs_nonfires = cirrus_idxs(nonfires) # length: 3168"
   ]
  },
  {
   "cell_type": "code",
   "execution_count": 9,
   "metadata": {
    "execution": {
     "iopub.execute_input": "2022-02-12T05:40:05.153163Z",
     "iopub.status.busy": "2022-02-12T05:40:05.152667Z",
     "iopub.status.idle": "2022-02-12T05:40:05.157599Z",
     "shell.execute_reply": "2022-02-12T05:40:05.156567Z",
     "shell.execute_reply.started": "2022-02-12T05:40:05.153124Z"
    }
   },
   "outputs": [],
   "source": [
    "def cluster_cirrus(data, cirrus_idxs_data):\n",
    "    clustering = KMeans(3, init=\"random\") # 3 clusters: Dense cloud, Scattered cloud, No Cloud\n",
    "    clustered_imgs = []\n",
    "    \n",
    "    points = np.zeros((16384,3))\n",
    "    for i in range(128):\n",
    "        points[128*i:128*(i+1),0] = i\n",
    "        points[128*i:128*(i+1),1] = np.arange(0,128,1)\n",
    "\n",
    "    for ii in cirrus_idxs_data:\n",
    "        pixels = []\n",
    "        for i in range(128):\n",
    "            for j in range(128):\n",
    "                pixels.append(data[ii,:,:,cirrus_band][i][j])\n",
    "        points[:,-1] = np.array(pixels)\n",
    "        \n",
    "        clustering.fit(points)\n",
    "        clustered_img = clustering.labels_.reshape(128,128)\n",
    "        clustered_imgs.append(clustered_img)\n",
    "        \n",
    "    clustered_imgs = np.array(clustered_imgs)\n",
    "    \n",
    "    return clustered_imgs"
   ]
  },
  {
   "cell_type": "code",
   "execution_count": 10,
   "metadata": {
    "execution": {
     "iopub.execute_input": "2022-02-12T05:40:06.169533Z",
     "iopub.status.busy": "2022-02-12T05:40:06.169272Z",
     "iopub.status.idle": "2022-02-12T05:40:06.174491Z",
     "shell.execute_reply": "2022-02-12T05:40:06.173730Z",
     "shell.execute_reply.started": "2022-02-12T05:40:06.169505Z"
    }
   },
   "outputs": [],
   "source": [
    "def confirm_clusters(clustered_data, cirrus_idxs_data):\n",
    "    cirrus = np.zeros((clustered_imgs.shape[0], 128, 128))\n",
    "    \n",
    "    for i in range(len(cirrus_idxs_data)):\n",
    "        coords_0 = np.argwhere(clustered_imgs[i]==0).T\n",
    "        coords_1 = np.argwhere(clustered_imgs[i]==1).T\n",
    "        coords_2 = np.argwhere(clustered_imgs[i]==2).T\n",
    "        mean_0 = np.mean(data[cirrus_idxs_data[i],:,:,7][coords_0[0,:], coords_0[1,:]])\n",
    "        mean_1 = np.mean(data[cirrus_idxs_data[i],:,:,7][coords_1[0,:], coords_1[1,:]])\n",
    "        mean_2 = np.mean(data[cirrus_idxs_data[i],:,:,7][coords_2[0,:], coords_2[1,:]])\n",
    "        sorted_means = sorted(list([mean_0, mean_1, mean_2]))\n",
    "        \n",
    "        if sorted_means[2] == mean_0:\n",
    "            if sorted_means[1] == mean_1:\n",
    "                dense = 0\n",
    "                scattered = 1\n",
    "                none = 2\n",
    "            else:\n",
    "                dense = 0\n",
    "                scattered = 2\n",
    "                none = 1\n",
    "        elif sorted_means[2] == mean_1:\n",
    "            if sorted_means[1] == mean_0:\n",
    "                dense = 1\n",
    "                scattered = 0\n",
    "                none = 2\n",
    "            else:\n",
    "                dense = 1\n",
    "                scattered = 2\n",
    "                none = 0\n",
    "        else:\n",
    "            if sorted_means[1] == mean_0:\n",
    "                dense = 2\n",
    "                scattered = 0\n",
    "                none = 1\n",
    "            else:\n",
    "                dense = 2\n",
    "                scattered = 1\n",
    "                none = 0\n",
    "\n",
    "        cirrus[i][clustered_imgs[i]==none] = 0\n",
    "        cirrus[i][clustered_imgs[i]==scattered] = 1\n",
    "        cirrus[i][clustered_imgs[i]==dense] = 2\n",
    "        \n",
    "        return cirrus"
   ]
  },
  {
   "cell_type": "code",
   "execution_count": 11,
   "metadata": {
    "execution": {
     "iopub.execute_input": "2022-02-12T05:40:07.714507Z",
     "iopub.status.busy": "2022-02-12T05:40:07.713985Z",
     "iopub.status.idle": "2022-02-12T05:40:07.717533Z",
     "shell.execute_reply": "2022-02-12T05:40:07.716859Z",
     "shell.execute_reply.started": "2022-02-12T05:40:07.714469Z"
    }
   },
   "outputs": [],
   "source": [
    "clustered_fire = cluster_cirrus(fires)\n",
    "clustered_nonfire = cluster_cirrus(nonfires)\n",
    "clustered_fire = confirm_clusters(clustered_fire, cirrus_idxs_fire)\n",
    "clustered_nonfire = confirm_clusters(clustered_nonfire, cirrus_idxs_nonfire)\n",
    "cirrus = np.concatenate((clustered_fire, clustered_nonfire))"
   ]
  },
  {
   "cell_type": "code",
   "execution_count": 12,
   "metadata": {
    "execution": {
     "iopub.execute_input": "2022-02-12T05:40:08.941043Z",
     "iopub.status.busy": "2022-02-12T05:40:08.940511Z",
     "iopub.status.idle": "2022-02-12T05:40:08.944901Z",
     "shell.execute_reply": "2022-02-12T05:40:08.943883Z",
     "shell.execute_reply.started": "2022-02-12T05:40:08.941002Z"
    }
   },
   "outputs": [],
   "source": [
    "# Run this cell when training the model on segmented cirrus inputs\n",
    "experimental = True\n",
    "if experimental:\n",
    "    cirrus_x = np.concatenate((cirrus_x, cirrus), axis=3)"
   ]
  },
  {
   "cell_type": "code",
   "execution_count": 13,
   "metadata": {
    "execution": {
     "iopub.execute_input": "2022-02-12T05:40:09.734708Z",
     "iopub.status.busy": "2022-02-12T05:40:09.734433Z",
     "iopub.status.idle": "2022-02-12T05:40:09.738426Z",
     "shell.execute_reply": "2022-02-12T05:40:09.737614Z",
     "shell.execute_reply.started": "2022-02-12T05:40:09.734677Z"
    }
   },
   "outputs": [],
   "source": [
    "# pickle.dump(cirrus_x, open(\"cirrus_x.dat\", \"wb\"))"
   ]
  },
  {
   "cell_type": "code",
   "execution_count": 14,
   "metadata": {
    "execution": {
     "iopub.execute_input": "2022-02-12T05:40:10.638215Z",
     "iopub.status.busy": "2022-02-12T05:40:10.637730Z",
     "iopub.status.idle": "2022-02-12T05:40:10.641591Z",
     "shell.execute_reply": "2022-02-12T05:40:10.640670Z",
     "shell.execute_reply.started": "2022-02-12T05:40:10.638179Z"
    }
   },
   "outputs": [],
   "source": [
    "cirrus_y = np.concatenate((np.ones((len(cirrus_idxs_fires))), np.zeros((len(cirrus_idxs_nonfires)))))"
   ]
  },
  {
   "cell_type": "code",
   "execution_count": 15,
   "metadata": {
    "execution": {
     "iopub.execute_input": "2022-02-12T05:40:11.921731Z",
     "iopub.status.busy": "2022-02-12T05:40:11.921465Z",
     "iopub.status.idle": "2022-02-12T05:40:11.925396Z",
     "shell.execute_reply": "2022-02-12T05:40:11.924457Z",
     "shell.execute_reply.started": "2022-02-12T05:40:11.921702Z"
    }
   },
   "outputs": [],
   "source": [
    "X_t, X_v, y_t, y_v = train_test_split(cirrus_x, cirrus_y, test_size=0.2, stratify=cirrus_y, random_state=0)"
   ]
  },
  {
   "cell_type": "code",
   "execution_count": 16,
   "metadata": {
    "execution": {
     "iopub.execute_input": "2022-02-12T05:40:15.430792Z",
     "iopub.status.busy": "2022-02-12T05:40:15.430052Z",
     "iopub.status.idle": "2022-02-12T05:40:15.435344Z",
     "shell.execute_reply": "2022-02-12T05:40:15.434209Z",
     "shell.execute_reply.started": "2022-02-12T05:40:15.430743Z"
    }
   },
   "outputs": [],
   "source": [
    "X_t_mins = np.min(np.min(np.min(X_t, axis=0), axis=0), axis=0) \n",
    "X_t_maxs = np.max(np.max(np.max(X_t, axis=0), axis=0), axis=0) \n",
    "X_t = (X_t - X_t_mins) / (X_t_maxs - X_t_mins)\n",
    "X_v = (X_v - X_t_mins) / (X_t_maxs - X_t_mins)"
   ]
  },
  {
   "cell_type": "code",
   "execution_count": 17,
   "metadata": {
    "execution": {
     "iopub.execute_input": "2022-02-12T05:40:17.092856Z",
     "iopub.status.busy": "2022-02-12T05:40:17.092149Z",
     "iopub.status.idle": "2022-02-12T05:40:17.097209Z",
     "shell.execute_reply": "2022-02-12T05:40:17.096538Z",
     "shell.execute_reply.started": "2022-02-12T05:40:17.092815Z"
    }
   },
   "outputs": [],
   "source": [
    "input_depth = 3 # Experimental model has 3 channels, Baseline model has 2 channels\n",
    "\n",
    "def cirrus_model_builder():\n",
    "    l2 = tf.keras.regularizers.l2(l=0.003)\n",
    "    inputs = Input(shape=(128,128,input_depth))\n",
    "    \n",
    "    x = Conv2D(32, (7,7), padding=\"valid\")(inputs)\n",
    "    x = BatchNormalization()(x)\n",
    "    x = Activation(\"relu\")(x)\n",
    "    x = MaxPooling2D((3,3), strides=2)(x)\n",
    "    \n",
    "    x = Conv2D(64, (5,5), padding=\"valid\")(x)\n",
    "    x = BatchNormalization()(x)\n",
    "    x = Activation(\"relu\")(x)   \n",
    "    x = MaxPooling2D((3,3), strides=2)(x)\n",
    "  \n",
    "    x = Conv2D(128, (5,5), padding=\"valid\", kernel_regularizer=l2)(x)\n",
    "    x = BatchNormalization()(x)\n",
    "    x = Activation(\"relu\")(x)   \n",
    "    x = MaxPooling2D((3,3), strides=2)(x)\n",
    "   \n",
    "    x = Conv2D(256, (5,5), padding=\"valid\", kernel_regularizer=l2)(x)\n",
    "    x = BatchNormalization()(x)\n",
    "    x = Activation(\"relu\")(x)\n",
    "    x = MaxPooling2D((3,3), strides=2)(x)\n",
    "    x = Dropout(0.3)(x)\n",
    "    \n",
    "    x = Flatten()(x)\n",
    "    x = Dense(300)(x)\n",
    "    x = Dropout(0.3)(x)\n",
    "    x = Activation(\"relu\")(x)\n",
    "\n",
    "    x = Dense(150)(x)\n",
    "    x = Dropout(0.2)(x)\n",
    "    x = Activation(\"relu\")(x)\n",
    "    \n",
    "    x = Dense(50)(x)\n",
    "    x = Dropout(0.2)(x)\n",
    "    x = Activation(\"relu\")(x)\n",
    "    \n",
    "    x = Dense(16)(x)\n",
    "    x = Dropout(0.1)(x)\n",
    "    x = Activation(\"relu\")(x)\n",
    "    \n",
    "    x = Dense(8)(x)\n",
    "    x = Dropout(0.1)(x)\n",
    "    x = Activation(\"relu\")(x)\n",
    "    x = Dense(1)(x)\n",
    "    \n",
    "    outputs = Activation(\"sigmoid\")(x)\n",
    "    model = Model(inputs, outputs)\n",
    "    \n",
    "    return model"
   ]
  },
  {
   "cell_type": "code",
   "execution_count": 18,
   "metadata": {
    "execution": {
     "iopub.execute_input": "2022-02-12T05:40:18.738480Z",
     "iopub.status.busy": "2022-02-12T05:40:18.737956Z",
     "iopub.status.idle": "2022-02-12T05:40:18.743600Z",
     "shell.execute_reply": "2022-02-12T05:40:18.741126Z",
     "shell.execute_reply.started": "2022-02-12T05:40:18.738442Z"
    }
   },
   "outputs": [],
   "source": [
    "cirrus_model = cirrus_model_builder()\n",
    "cirrus_model.summary()"
   ]
  },
  {
   "cell_type": "code",
   "execution_count": 19,
   "metadata": {
    "execution": {
     "iopub.execute_input": "2022-02-12T05:40:19.607078Z",
     "iopub.status.busy": "2022-02-12T05:40:19.606329Z",
     "iopub.status.idle": "2022-02-12T05:40:19.610402Z",
     "shell.execute_reply": "2022-02-12T05:40:19.609703Z",
     "shell.execute_reply.started": "2022-02-12T05:40:19.607031Z"
    }
   },
   "outputs": [],
   "source": [
    "tf.keras.utils.plot_model(cirrus_model, to_file='cirrus_model.png')"
   ]
  },
  {
   "cell_type": "code",
   "execution_count": 20,
   "metadata": {
    "execution": {
     "iopub.execute_input": "2022-02-12T05:40:20.885581Z",
     "iopub.status.busy": "2022-02-12T05:40:20.885123Z",
     "iopub.status.idle": "2022-02-12T05:40:20.889019Z",
     "shell.execute_reply": "2022-02-12T05:40:20.888371Z",
     "shell.execute_reply.started": "2022-02-12T05:40:20.885543Z"
    }
   },
   "outputs": [],
   "source": [
    "weight_pos_cirrus = cirrus_y.shape[0] / np.sum(cirrus_y) - 1\n",
    "\n",
    "def loss_fn_cirrus(y_true, y_pred):\n",
    "    y_true = tf.keras.layers.Flatten()(y_true)\n",
    "    y_pred = tf.keras.layers.Flatten()(y_pred)\n",
    "    epsilon = 1e-4\n",
    "    error = - (weight_pos_cirrus * y_true * tf.math.log(y_pred + epsilon) + (1 - y_true) * tf.math.log(1 - y_pred + epsilon))\n",
    "    loss = tf.math.reduce_mean(error, axis=-1)\n",
    "    \n",
    "    return loss"
   ]
  },
  {
   "cell_type": "code",
   "execution_count": 21,
   "metadata": {
    "execution": {
     "iopub.execute_input": "2022-02-12T05:40:22.209650Z",
     "iopub.status.busy": "2022-02-12T05:40:22.209080Z",
     "iopub.status.idle": "2022-02-12T05:40:22.213222Z",
     "shell.execute_reply": "2022-02-12T05:40:22.212428Z",
     "shell.execute_reply.started": "2022-02-12T05:40:22.209588Z"
    }
   },
   "outputs": [],
   "source": [
    "adam = tf.keras.optimizers.Adam(learning_rate=3e-4)\n",
    "cirrus_model.compile(optimizer=adam, loss=loss_fn_cirrus, metrics=[\"binary_accuracy\"])"
   ]
  },
  {
   "cell_type": "code",
   "execution_count": 22,
   "metadata": {
    "execution": {
     "iopub.execute_input": "2022-02-12T05:40:23.196757Z",
     "iopub.status.busy": "2022-02-12T05:40:23.196312Z",
     "iopub.status.idle": "2022-02-12T05:40:23.200101Z",
     "shell.execute_reply": "2022-02-12T05:40:23.199411Z",
     "shell.execute_reply.started": "2022-02-12T05:40:23.196718Z"
    },
    "scrolled": true
   },
   "outputs": [],
   "source": [
    "history_cirrus = cirrus_model.fit(X_t, y_t, validation_data=(X_v, y_v), batch_size=32, epochs=200)"
   ]
  },
  {
   "cell_type": "code",
   "execution_count": 23,
   "metadata": {
    "execution": {
     "iopub.execute_input": "2022-02-12T05:40:24.113242Z",
     "iopub.status.busy": "2022-02-12T05:40:24.111021Z",
     "iopub.status.idle": "2022-02-12T05:40:24.117611Z",
     "shell.execute_reply": "2022-02-12T05:40:24.116964Z",
     "shell.execute_reply.started": "2022-02-12T05:40:24.113203Z"
    }
   },
   "outputs": [],
   "source": [
    "plt.plot(history_cirrus.history[\"loss\"])\n",
    "val_loss = history_cirrus.history[\"val_loss\"][:9] + list(pd.Series(history_cirrus.history[\"val_loss\"]).rolling(10).mean().dropna())\n",
    "plt.plot(val_loss)\n",
    "plt.show()\n",
    "\n",
    "plt.plot(history_cirrus.history[\"binary_accuracy\"])\n",
    "val_metric = history_cirrus.history[\"val_binary_accuracy\"][:9] + list(pd.Series(history_cirrus.history[\"val_binary_accuracy\"]).rolling(10).mean().dropna())\n",
    "plt.plot(val_metric)\n",
    "plt.yticks([i for i in np.arange(0.5, 1.05, 0.05)])\n",
    "plt.show()"
   ]
  }
 ],
 "metadata": {
  "kernelspec": {
   "display_name": "Python 3",
   "language": "python",
   "name": "python3"
  },
  "language_info": {
   "codemirror_mode": {
    "name": "ipython",
    "version": 3
   },
   "file_extension": ".py",
   "mimetype": "text/x-python",
   "name": "python",
   "nbconvert_exporter": "python",
   "pygments_lexer": "ipython3",
   "version": "3.8.8"
  }
 },
 "nbformat": 4,
 "nbformat_minor": 4
}
